{
  "nbformat": 4,
  "nbformat_minor": 0,
  "metadata": {
    "colab": {
      "name": "frequency_distribution_Covid19 US_data .ipynb",
      "provenance": [],
      "authorship_tag": "ABX9TyOAB3VkqkFmwO96u9Vfx+x4",
      "include_colab_link": true
    },
    "kernelspec": {
      "name": "python3",
      "display_name": "Python 3"
    }
  },
  "cells": [
    {
      "cell_type": "markdown",
      "metadata": {
        "id": "view-in-github",
        "colab_type": "text"
      },
      "source": [
        "<a href=\"https://colab.research.google.com/github/Nilufayeasmin299/Frequency-distribution-on-Covid19-data/blob/main/frequency_distribution_Covid19_US_data_.ipynb\" target=\"_parent\"><img src=\"https://colab.research.google.com/assets/colab-badge.svg\" alt=\"Open In Colab\"/></a>"
      ]
    },
    {
      "cell_type": "code",
      "metadata": {
        "id": "BPMOgaDGHEFE",
        "colab": {
          "base_uri": "https://localhost:8080/"
        },
        "outputId": "f2d7121f-9350-4ea4-c03b-ccc569d89714"
      },
      "source": [
        "from google.colab import drive\n",
        "drive.mount('/content/gdrive')"
      ],
      "execution_count": null,
      "outputs": [
        {
          "output_type": "stream",
          "text": [
            "Drive already mounted at /content/gdrive; to attempt to forcibly remount, call drive.mount(\"/content/gdrive\", force_remount=True).\n"
          ],
          "name": "stdout"
        }
      ]
    },
    {
      "cell_type": "code",
      "metadata": {
        "id": "70uDv32zHsJz"
      },
      "source": [
        "# importing necessary libries\n",
        "import pandas as pd\n",
        "import numpy as np\n",
        "import matplotlib.pyplot as plt\n",
        "import seaborn as sns"
      ],
      "execution_count": null,
      "outputs": []
    },
    {
      "cell_type": "code",
      "metadata": {
        "id": "4_0X03MVIxMC"
      },
      "source": [
        "df=pd.read_csv('/content/gdrive/My Drive/project for paper /dataset/covid_data.csv')"
      ],
      "execution_count": null,
      "outputs": []
    },
    {
      "cell_type": "code",
      "metadata": {
        "id": "_dJh14zaJC1e",
        "colab": {
          "base_uri": "https://localhost:8080/",
          "height": 203
        },
        "outputId": "451eb580-aa3e-4b66-dcfe-4e6a32e2aba4"
      },
      "source": [
        "df.head()"
      ],
      "execution_count": null,
      "outputs": [
        {
          "output_type": "execute_result",
          "data": {
            "text/html": [
              "<div>\n",
              "<style scoped>\n",
              "    .dataframe tbody tr th:only-of-type {\n",
              "        vertical-align: middle;\n",
              "    }\n",
              "\n",
              "    .dataframe tbody tr th {\n",
              "        vertical-align: top;\n",
              "    }\n",
              "\n",
              "    .dataframe thead th {\n",
              "        text-align: right;\n",
              "    }\n",
              "</style>\n",
              "<table border=\"1\" class=\"dataframe\">\n",
              "  <thead>\n",
              "    <tr style=\"text-align: right;\">\n",
              "      <th></th>\n",
              "      <th>tweet_id</th>\n",
              "      <th>created_at</th>\n",
              "      <th>text</th>\n",
              "      <th>loc</th>\n",
              "      <th>user_id</th>\n",
              "      <th>verified</th>\n",
              "    </tr>\n",
              "  </thead>\n",
              "  <tbody>\n",
              "    <tr>\n",
              "      <th>0</th>\n",
              "      <td>1.235680e+18</td>\n",
              "      <td>2020-03-05 21:39:41+00:00</td>\n",
              "      <td>stayfrea alert corona virus spread through mon...</td>\n",
              "      <td>MI</td>\n",
              "      <td>u1</td>\n",
              "      <td>0</td>\n",
              "    </tr>\n",
              "    <tr>\n",
              "      <th>1</th>\n",
              "      <td>1.235680e+18</td>\n",
              "      <td>2020-03-05 21:39:42+00:00</td>\n",
              "      <td>matrodamusic corona virus temporary house musi...</td>\n",
              "      <td>UT</td>\n",
              "      <td>u2</td>\n",
              "      <td>0</td>\n",
              "    </tr>\n",
              "    <tr>\n",
              "      <th>2</th>\n",
              "      <td>1.235680e+18</td>\n",
              "      <td>2020-03-05 21:39:42+00:00</td>\n",
              "      <td>gainbos whole entire world corona virus danger...</td>\n",
              "      <td>TX</td>\n",
              "      <td>u3</td>\n",
              "      <td>0</td>\n",
              "    </tr>\n",
              "    <tr>\n",
              "      <th>3</th>\n",
              "      <td>1.235680e+18</td>\n",
              "      <td>2020-03-05 21:39:44+00:00</td>\n",
              "      <td>ellanjeferguson krystallsheree corona virus</td>\n",
              "      <td>MA</td>\n",
              "      <td>u4</td>\n",
              "      <td>0</td>\n",
              "    </tr>\n",
              "    <tr>\n",
              "      <th>4</th>\n",
              "      <td>1.235680e+18</td>\n",
              "      <td>2020-03-05 21:39:44+00:00</td>\n",
              "      <td>bradleoy corona virus said https wwfteavdch</td>\n",
              "      <td>NJ</td>\n",
              "      <td>u5</td>\n",
              "      <td>0</td>\n",
              "    </tr>\n",
              "  </tbody>\n",
              "</table>\n",
              "</div>"
            ],
            "text/plain": [
              "       tweet_id                 created_at  ... user_id verified\n",
              "0  1.235680e+18  2020-03-05 21:39:41+00:00  ...      u1        0\n",
              "1  1.235680e+18  2020-03-05 21:39:42+00:00  ...      u2        0\n",
              "2  1.235680e+18  2020-03-05 21:39:42+00:00  ...      u3        0\n",
              "3  1.235680e+18  2020-03-05 21:39:44+00:00  ...      u4        0\n",
              "4  1.235680e+18  2020-03-05 21:39:44+00:00  ...      u5        0\n",
              "\n",
              "[5 rows x 6 columns]"
            ]
          },
          "metadata": {
            "tags": []
          },
          "execution_count": 6
        }
      ]
    },
    {
      "cell_type": "code",
      "metadata": {
        "id": "ChjWdECJJjeV",
        "colab": {
          "base_uri": "https://localhost:8080/"
        },
        "outputId": "5d445beb-fab1-42bc-f0db-4e09317db110"
      },
      "source": [
        "df.shape"
      ],
      "execution_count": null,
      "outputs": [
        {
          "output_type": "execute_result",
          "data": {
            "text/plain": [
              "(1048575, 6)"
            ]
          },
          "metadata": {
            "tags": []
          },
          "execution_count": 7
        }
      ]
    },
    {
      "cell_type": "markdown",
      "metadata": {
        "id": "RDJKcSTPVIHq"
      },
      "source": [
        "## **Text Preprocessing: Stemming, Stop-word removal and Lemmatization**"
      ]
    },
    {
      "cell_type": "code",
      "metadata": {
        "id": "kejiCBFPMcr3",
        "colab": {
          "base_uri": "https://localhost:8080/"
        },
        "outputId": "591ac1b0-aeb7-46da-dfda-96bf948625f5"
      },
      "source": [
        "import nltk\n",
        "nltk.download('stopwords')"
      ],
      "execution_count": null,
      "outputs": [
        {
          "output_type": "stream",
          "text": [
            "[nltk_data] Downloading package stopwords to /root/nltk_data...\n",
            "[nltk_data]   Unzipping corpora/stopwords.zip.\n"
          ],
          "name": "stdout"
        },
        {
          "output_type": "execute_result",
          "data": {
            "text/plain": [
              "True"
            ]
          },
          "metadata": {
            "tags": []
          },
          "execution_count": 9
        }
      ]
    },
    {
      "cell_type": "code",
      "metadata": {
        "id": "A7XQIxl5MrLa"
      },
      "source": [
        "import re\n",
        "import string\n",
        "\n",
        "from nltk.corpus import stopwords\n",
        "from nltk.stem import PorterStemmer \n",
        "from nltk.stem.wordnet import WordNetLemmatizer \n",
        "stop = set(stopwords.words('english')) # set of stopwords in english\n",
        "sno = nltk.stem.SnowballStemmer('english') # initialising the snowball stemmer\n",
        "\n",
        "def cleanhtml(sentence): #function to clean the word of any html-tags\n",
        "  cleanr = re.compile('<.*?>')\n",
        "  cleantext = re.sub(cleanr, ' ', sentence)\n",
        "  return cleantext\n",
        "\n",
        "def cleanpunc(sentence): # funciton to clean word of any punction or symbol\n",
        "  cleaned = re.sub(r'[?|!|\\'|\"|#|*|_]',r'',sentence)\n",
        "  cleaned = re.sub(r'[.|,|)|(|\\|/]',r'',cleaned)\n",
        "  return cleaned"
      ],
      "execution_count": null,
      "outputs": []
    },
    {
      "cell_type": "code",
      "metadata": {
        "id": "V3g_XANWMvBs"
      },
      "source": [
        "#Code for implementing step-by-step the checks mentioned in the pre-processing phase\n",
        "\n",
        "text=' '\n",
        "final_string=[]\n",
        "s=''\n",
        "for sent in data['text'].values:\n",
        "    filtered_sentence=[]\n",
        "    #print(sent);\n",
        "    sent=cleanhtml(sent) # remove HTMl tags\n",
        "    for w in sent.split():\n",
        "        for cleaned_words in cleanpunc(w).split():\n",
        "            if((cleaned_words.isalpha()) & (len(cleaned_words)>2)):    \n",
        "                if(cleaned_words.lower() not in stop):\n",
        "                    s=(sno.stem(cleaned_words.lower()))\n",
        "                    filtered_sentence.append(s)\n",
        "                    \n",
        "                else:\n",
        "                    continue\n",
        "            else:\n",
        "                continue \n",
        "    #print(filtered_sentence)\n",
        "    text =\" \".join(filtered_sentence) #final string of cleaned words\n",
        "    #print(\"***********************************************************************\")\n",
        "    \n",
        "    final_string.append(text)"
      ],
      "execution_count": null,
      "outputs": []
    },
    {
      "cell_type": "code",
      "metadata": {
        "id": "bgGFIsSyM0Fa",
        "colab": {
          "base_uri": "https://localhost:8080/"
        },
        "outputId": "51c66c59-5bd5-42ee-9414-34d4d6105a05"
      },
      "source": [
        "data['CleanedText']=final_string"
      ],
      "execution_count": null,
      "outputs": [
        {
          "output_type": "stream",
          "text": [
            "/usr/local/lib/python3.6/dist-packages/ipykernel_launcher.py:1: SettingWithCopyWarning: \n",
            "A value is trying to be set on a copy of a slice from a DataFrame.\n",
            "Try using .loc[row_indexer,col_indexer] = value instead\n",
            "\n",
            "See the caveats in the documentation: https://pandas.pydata.org/pandas-docs/stable/user_guide/indexing.html#returning-a-view-versus-a-copy\n",
            "  \"\"\"Entry point for launching an IPython kernel.\n"
          ],
          "name": "stderr"
        }
      ]
    },
    {
      "cell_type": "code",
      "metadata": {
        "id": "NMy7UycVM4WB",
        "colab": {
          "base_uri": "https://localhost:8080/",
          "height": 288
        },
        "outputId": "e71314d8-d201-45a0-947d-d43328f558f6"
      },
      "source": [
        "data.head()"
      ],
      "execution_count": null,
      "outputs": [
        {
          "output_type": "execute_result",
          "data": {
            "text/html": [
              "<div>\n",
              "<style scoped>\n",
              "    .dataframe tbody tr th:only-of-type {\n",
              "        vertical-align: middle;\n",
              "    }\n",
              "\n",
              "    .dataframe tbody tr th {\n",
              "        vertical-align: top;\n",
              "    }\n",
              "\n",
              "    .dataframe thead th {\n",
              "        text-align: right;\n",
              "    }\n",
              "</style>\n",
              "<table border=\"1\" class=\"dataframe\">\n",
              "  <thead>\n",
              "    <tr style=\"text-align: right;\">\n",
              "      <th></th>\n",
              "      <th>tweet_id</th>\n",
              "      <th>created_at</th>\n",
              "      <th>text</th>\n",
              "      <th>loc</th>\n",
              "      <th>user_id</th>\n",
              "      <th>verified</th>\n",
              "      <th>CleanedText</th>\n",
              "    </tr>\n",
              "  </thead>\n",
              "  <tbody>\n",
              "    <tr>\n",
              "      <th>0</th>\n",
              "      <td>1.235680e+18</td>\n",
              "      <td>2020-03-05 21:39:41+00:00</td>\n",
              "      <td>stayfrea alert corona virus spread through mon...</td>\n",
              "      <td>MI</td>\n",
              "      <td>u1</td>\n",
              "      <td>0</td>\n",
              "      <td>stayfrea alert corona virus spread money money...</td>\n",
              "    </tr>\n",
              "    <tr>\n",
              "      <th>1</th>\n",
              "      <td>1.235680e+18</td>\n",
              "      <td>2020-03-05 21:39:42+00:00</td>\n",
              "      <td>matrodamusic corona virus temporary house musi...</td>\n",
              "      <td>UT</td>\n",
              "      <td>u2</td>\n",
              "      <td>0</td>\n",
              "      <td>matrodamus corona virus temporari hous music f...</td>\n",
              "    </tr>\n",
              "    <tr>\n",
              "      <th>2</th>\n",
              "      <td>1.235680e+18</td>\n",
              "      <td>2020-03-05 21:39:42+00:00</td>\n",
              "      <td>gainbos whole entire world corona virus danger...</td>\n",
              "      <td>TX</td>\n",
              "      <td>u3</td>\n",
              "      <td>0</td>\n",
              "      <td>gainbo whole entir world corona virus danger j...</td>\n",
              "    </tr>\n",
              "    <tr>\n",
              "      <th>3</th>\n",
              "      <td>1.235680e+18</td>\n",
              "      <td>2020-03-05 21:39:44+00:00</td>\n",
              "      <td>ellanjeferguson krystallsheree corona virus</td>\n",
              "      <td>MA</td>\n",
              "      <td>u4</td>\n",
              "      <td>0</td>\n",
              "      <td>ellanjeferguson krystallshere corona virus</td>\n",
              "    </tr>\n",
              "    <tr>\n",
              "      <th>4</th>\n",
              "      <td>1.235680e+18</td>\n",
              "      <td>2020-03-05 21:39:44+00:00</td>\n",
              "      <td>bradleoy corona virus said https wwfteavdch</td>\n",
              "      <td>NJ</td>\n",
              "      <td>u5</td>\n",
              "      <td>0</td>\n",
              "      <td>bradleoy corona virus said https wwfteavdch</td>\n",
              "    </tr>\n",
              "  </tbody>\n",
              "</table>\n",
              "</div>"
            ],
            "text/plain": [
              "       tweet_id  ...                                        CleanedText\n",
              "0  1.235680e+18  ...  stayfrea alert corona virus spread money money...\n",
              "1  1.235680e+18  ...  matrodamus corona virus temporari hous music f...\n",
              "2  1.235680e+18  ...  gainbo whole entir world corona virus danger j...\n",
              "3  1.235680e+18  ...         ellanjeferguson krystallshere corona virus\n",
              "4  1.235680e+18  ...        bradleoy corona virus said https wwfteavdch\n",
              "\n",
              "[5 rows x 7 columns]"
            ]
          },
          "metadata": {
            "tags": []
          },
          "execution_count": 13
        }
      ]
    },
    {
      "cell_type": "code",
      "metadata": {
        "id": "jroMGwNqNPd_"
      },
      "source": [
        "# importing libries for sentiment analysis\n",
        "from textblob import TextBlob\n",
        "from wordcloud import WordCloud"
      ],
      "execution_count": null,
      "outputs": []
    },
    {
      "cell_type": "code",
      "metadata": {
        "id": "_cbDRV_zNTZk",
        "colab": {
          "base_uri": "https://localhost:8080/"
        },
        "outputId": "2be0d5ab-e2c1-4e9e-81a4-2e24f31c89bb"
      },
      "source": [
        "# Create a function to get subjectivity and polarity\n",
        "\n",
        "def getSubjectivity(text):\n",
        "    return TextBlob(text).sentiment.subjectivity\n",
        "\n",
        "#Create a function to get polarity\n",
        "def getPolarity(text):\n",
        "    return TextBlob(text).sentiment.polarity\n",
        "\n",
        "#create two new ccolumns\n",
        "\n",
        "data['Subjectivity']=data['CleanedText'].apply(getSubjectivity)\n",
        "data['Polarity']=data['CleanedText'].apply(getPolarity)"
      ],
      "execution_count": null,
      "outputs": [
        {
          "output_type": "stream",
          "text": [
            "/usr/local/lib/python3.6/dist-packages/ipykernel_launcher.py:12: SettingWithCopyWarning: \n",
            "A value is trying to be set on a copy of a slice from a DataFrame.\n",
            "Try using .loc[row_indexer,col_indexer] = value instead\n",
            "\n",
            "See the caveats in the documentation: https://pandas.pydata.org/pandas-docs/stable/user_guide/indexing.html#returning-a-view-versus-a-copy\n",
            "  if sys.path[0] == '':\n",
            "/usr/local/lib/python3.6/dist-packages/ipykernel_launcher.py:13: SettingWithCopyWarning: \n",
            "A value is trying to be set on a copy of a slice from a DataFrame.\n",
            "Try using .loc[row_indexer,col_indexer] = value instead\n",
            "\n",
            "See the caveats in the documentation: https://pandas.pydata.org/pandas-docs/stable/user_guide/indexing.html#returning-a-view-versus-a-copy\n",
            "  del sys.path[0]\n"
          ],
          "name": "stderr"
        }
      ]
    },
    {
      "cell_type": "code",
      "metadata": {
        "id": "ZT2isvZMNYa3",
        "colab": {
          "base_uri": "https://localhost:8080/"
        },
        "outputId": "a76aec27-838d-4248-cd8f-dabd3f58a7c0"
      },
      "source": [
        "# Create function to compute the negative ,neutral and positive analysis\n",
        "def getAnalysis(score):\n",
        "    if score <0:\n",
        "        return 'Negative'\n",
        "    elif score ==0:\n",
        "        return 'Neutral'\n",
        "    else:\n",
        "        return 'Positive'\n",
        "data['Analysis']=data['Polarity'].apply(getAnalysis)"
      ],
      "execution_count": null,
      "outputs": [
        {
          "output_type": "stream",
          "text": [
            "/usr/local/lib/python3.6/dist-packages/ipykernel_launcher.py:9: SettingWithCopyWarning: \n",
            "A value is trying to be set on a copy of a slice from a DataFrame.\n",
            "Try using .loc[row_indexer,col_indexer] = value instead\n",
            "\n",
            "See the caveats in the documentation: https://pandas.pydata.org/pandas-docs/stable/user_guide/indexing.html#returning-a-view-versus-a-copy\n",
            "  if __name__ == '__main__':\n"
          ],
          "name": "stderr"
        }
      ]
    },
    {
      "cell_type": "code",
      "metadata": {
        "id": "ZwwPuxD-Njgz",
        "colab": {
          "base_uri": "https://localhost:8080/",
          "height": 203
        },
        "outputId": "eaa3c446-42af-4e31-b173-40aa4adfa29a"
      },
      "source": [
        "data.head()"
      ],
      "execution_count": null,
      "outputs": [
        {
          "output_type": "execute_result",
          "data": {
            "text/html": [
              "<div>\n",
              "<style scoped>\n",
              "    .dataframe tbody tr th:only-of-type {\n",
              "        vertical-align: middle;\n",
              "    }\n",
              "\n",
              "    .dataframe tbody tr th {\n",
              "        vertical-align: top;\n",
              "    }\n",
              "\n",
              "    .dataframe thead th {\n",
              "        text-align: right;\n",
              "    }\n",
              "</style>\n",
              "<table border=\"1\" class=\"dataframe\">\n",
              "  <thead>\n",
              "    <tr style=\"text-align: right;\">\n",
              "      <th></th>\n",
              "      <th>text</th>\n",
              "      <th>loc</th>\n",
              "      <th>CleanedText</th>\n",
              "      <th>Subjectivity</th>\n",
              "      <th>Polarity</th>\n",
              "      <th>Analysis</th>\n",
              "    </tr>\n",
              "  </thead>\n",
              "  <tbody>\n",
              "    <tr>\n",
              "      <th>0</th>\n",
              "      <td>stayfrea alert corona virus spread through mon...</td>\n",
              "      <td>MI</td>\n",
              "      <td>stayfrea alert corona virus spread money money...</td>\n",
              "      <td>0.0</td>\n",
              "      <td>0.0</td>\n",
              "      <td>Neutral</td>\n",
              "    </tr>\n",
              "    <tr>\n",
              "      <th>1</th>\n",
              "      <td>matrodamusic corona virus temporary house musi...</td>\n",
              "      <td>UT</td>\n",
              "      <td>matrodamus corona virus temporari hous music f...</td>\n",
              "      <td>0.0</td>\n",
              "      <td>0.0</td>\n",
              "      <td>Neutral</td>\n",
              "    </tr>\n",
              "    <tr>\n",
              "      <th>2</th>\n",
              "      <td>gainbos whole entire world corona virus danger...</td>\n",
              "      <td>TX</td>\n",
              "      <td>gainbo whole entir world corona virus danger j...</td>\n",
              "      <td>0.4</td>\n",
              "      <td>0.2</td>\n",
              "      <td>Positive</td>\n",
              "    </tr>\n",
              "    <tr>\n",
              "      <th>3</th>\n",
              "      <td>ellanjeferguson krystallsheree corona virus</td>\n",
              "      <td>MA</td>\n",
              "      <td>ellanjeferguson krystallshere corona virus</td>\n",
              "      <td>0.0</td>\n",
              "      <td>0.0</td>\n",
              "      <td>Neutral</td>\n",
              "    </tr>\n",
              "    <tr>\n",
              "      <th>4</th>\n",
              "      <td>bradleoy corona virus said https wwfteavdch</td>\n",
              "      <td>NJ</td>\n",
              "      <td>bradleoy corona virus said https wwfteavdch</td>\n",
              "      <td>0.0</td>\n",
              "      <td>0.0</td>\n",
              "      <td>Neutral</td>\n",
              "    </tr>\n",
              "  </tbody>\n",
              "</table>\n",
              "</div>"
            ],
            "text/plain": [
              "                                                text loc  ... Polarity  Analysis\n",
              "0  stayfrea alert corona virus spread through mon...  MI  ...      0.0   Neutral\n",
              "1  matrodamusic corona virus temporary house musi...  UT  ...      0.0   Neutral\n",
              "2  gainbos whole entire world corona virus danger...  TX  ...      0.2  Positive\n",
              "3        ellanjeferguson krystallsheree corona virus  MA  ...      0.0   Neutral\n",
              "4        bradleoy corona virus said https wwfteavdch  NJ  ...      0.0   Neutral\n",
              "\n",
              "[5 rows x 6 columns]"
            ]
          },
          "metadata": {
            "tags": []
          },
          "execution_count": 24
        }
      ]
    },
    {
      "cell_type": "code",
      "metadata": {
        "id": "JqJ1APDlNnD3",
        "colab": {
          "base_uri": "https://localhost:8080/"
        },
        "outputId": "c1dcf84b-7d76-473b-c364-55223fe92bed"
      },
      "source": [
        "data.drop(['text'],axis=1,inplace=True)"
      ],
      "execution_count": null,
      "outputs": [
        {
          "output_type": "stream",
          "text": [
            "/usr/local/lib/python3.6/dist-packages/pandas/core/frame.py:4170: SettingWithCopyWarning: \n",
            "A value is trying to be set on a copy of a slice from a DataFrame\n",
            "\n",
            "See the caveats in the documentation: https://pandas.pydata.org/pandas-docs/stable/user_guide/indexing.html#returning-a-view-versus-a-copy\n",
            "  errors=errors,\n"
          ],
          "name": "stderr"
        }
      ]
    },
    {
      "cell_type": "code",
      "metadata": {
        "id": "4NElJmtvOcBr",
        "colab": {
          "base_uri": "https://localhost:8080/",
          "height": 203
        },
        "outputId": "e810acf8-ad8b-4231-85bd-2e5fb95f4c1e"
      },
      "source": [
        "data.head()"
      ],
      "execution_count": null,
      "outputs": [
        {
          "output_type": "execute_result",
          "data": {
            "text/html": [
              "<div>\n",
              "<style scoped>\n",
              "    .dataframe tbody tr th:only-of-type {\n",
              "        vertical-align: middle;\n",
              "    }\n",
              "\n",
              "    .dataframe tbody tr th {\n",
              "        vertical-align: top;\n",
              "    }\n",
              "\n",
              "    .dataframe thead th {\n",
              "        text-align: right;\n",
              "    }\n",
              "</style>\n",
              "<table border=\"1\" class=\"dataframe\">\n",
              "  <thead>\n",
              "    <tr style=\"text-align: right;\">\n",
              "      <th></th>\n",
              "      <th>loc</th>\n",
              "      <th>CleanedText</th>\n",
              "      <th>Subjectivity</th>\n",
              "      <th>Polarity</th>\n",
              "      <th>Analysis</th>\n",
              "    </tr>\n",
              "  </thead>\n",
              "  <tbody>\n",
              "    <tr>\n",
              "      <th>0</th>\n",
              "      <td>MI</td>\n",
              "      <td>stayfrea alert corona virus spread money money...</td>\n",
              "      <td>0.0</td>\n",
              "      <td>0.0</td>\n",
              "      <td>Neutral</td>\n",
              "    </tr>\n",
              "    <tr>\n",
              "      <th>1</th>\n",
              "      <td>UT</td>\n",
              "      <td>matrodamus corona virus temporari hous music f...</td>\n",
              "      <td>0.0</td>\n",
              "      <td>0.0</td>\n",
              "      <td>Neutral</td>\n",
              "    </tr>\n",
              "    <tr>\n",
              "      <th>2</th>\n",
              "      <td>TX</td>\n",
              "      <td>gainbo whole entir world corona virus danger j...</td>\n",
              "      <td>0.4</td>\n",
              "      <td>0.2</td>\n",
              "      <td>Positive</td>\n",
              "    </tr>\n",
              "    <tr>\n",
              "      <th>3</th>\n",
              "      <td>MA</td>\n",
              "      <td>ellanjeferguson krystallshere corona virus</td>\n",
              "      <td>0.0</td>\n",
              "      <td>0.0</td>\n",
              "      <td>Neutral</td>\n",
              "    </tr>\n",
              "    <tr>\n",
              "      <th>4</th>\n",
              "      <td>NJ</td>\n",
              "      <td>bradleoy corona virus said https wwfteavdch</td>\n",
              "      <td>0.0</td>\n",
              "      <td>0.0</td>\n",
              "      <td>Neutral</td>\n",
              "    </tr>\n",
              "  </tbody>\n",
              "</table>\n",
              "</div>"
            ],
            "text/plain": [
              "  loc                                        CleanedText  ...  Polarity  Analysis\n",
              "0  MI  stayfrea alert corona virus spread money money...  ...       0.0   Neutral\n",
              "1  UT  matrodamus corona virus temporari hous music f...  ...       0.0   Neutral\n",
              "2  TX  gainbo whole entir world corona virus danger j...  ...       0.2  Positive\n",
              "3  MA         ellanjeferguson krystallshere corona virus  ...       0.0   Neutral\n",
              "4  NJ        bradleoy corona virus said https wwfteavdch  ...       0.0   Neutral\n",
              "\n",
              "[5 rows x 5 columns]"
            ]
          },
          "metadata": {
            "tags": []
          },
          "execution_count": 26
        }
      ]
    },
    {
      "cell_type": "code",
      "metadata": {
        "id": "Yeam_N5XPJOL",
        "colab": {
          "base_uri": "https://localhost:8080/"
        },
        "outputId": "b0a44382-1dcb-48a5-e7c4-c8351997ccd3"
      },
      "source": [
        "#finding unique locations\n",
        "\n",
        "locations = pd.Series(data['loc'].tolist())\n",
        "unique_loc = len(np.unique(locations))\n",
        "print('Number of unique Location: ',unique_loc)"
      ],
      "execution_count": null,
      "outputs": [
        {
          "output_type": "stream",
          "text": [
            "Number of unique Location:  50\n"
          ],
          "name": "stdout"
        }
      ]
    },
    {
      "cell_type": "code",
      "metadata": {
        "id": "JvjNkPg2PyX3",
        "colab": {
          "base_uri": "https://localhost:8080/"
        },
        "outputId": "dbc770a3-092e-49b0-ecb6-481d2e454fa7"
      },
      "source": [
        "print ('Maximum number of times a single location is repeated: {}\\n'.format(max(locations.value_counts())))\n"
      ],
      "execution_count": null,
      "outputs": [
        {
          "output_type": "stream",
          "text": [
            "Maximum number of times a single location is repeated: 3399\n",
            "\n"
          ],
          "name": "stdout"
        }
      ]
    },
    {
      "cell_type": "code",
      "metadata": {
        "id": "NyvdA1sHP8x2",
        "colab": {
          "base_uri": "https://localhost:8080/",
          "height": 518
        },
        "outputId": "cf74f2ac-aa89-4ca7-a0be-9b5775b570bd"
      },
      "source": [
        "plt.figure(figsize=(20,8))\n",
        "sns.countplot(data['loc'])"
      ],
      "execution_count": null,
      "outputs": [
        {
          "output_type": "stream",
          "text": [
            "/usr/local/lib/python3.6/dist-packages/seaborn/_decorators.py:43: FutureWarning: Pass the following variable as a keyword arg: x. From version 0.12, the only valid positional argument will be `data`, and passing other arguments without an explicit keyword will result in an error or misinterpretation.\n",
            "  FutureWarning\n"
          ],
          "name": "stderr"
        },
        {
          "output_type": "execute_result",
          "data": {
            "text/plain": [
              "<matplotlib.axes._subplots.AxesSubplot at 0x7ff2556914e0>"
            ]
          },
          "metadata": {
            "tags": []
          },
          "execution_count": 29
        },
        {
          "output_type": "display_data",
          "data": {
            "image/png": "[encoded data removed]",
            "text/plain": [
              "<Figure size 1440x576 with 1 Axes>"
            ]
          },
          "metadata": {
            "tags": [],
            "needs_background": "light"
          }
        }
      ]
    },
    {
      "cell_type": "code",
      "metadata": {
        "id": "XsUPXmAxQRLA",
        "colab": {
          "base_uri": "https://localhost:8080/",
          "height": 462
        },
        "outputId": "064f7529-5deb-4916-f407-3be9381473eb"
      },
      "source": [
        "plt.figure(figsize=(10,6))\n",
        "sns.countplot(data['Analysis'])"
      ],
      "execution_count": null,
      "outputs": [
        {
          "output_type": "stream",
          "text": [
            "/usr/local/lib/python3.6/dist-packages/seaborn/_decorators.py:43: FutureWarning: Pass the following variable as a keyword arg: x. From version 0.12, the only valid positional argument will be `data`, and passing other arguments without an explicit keyword will result in an error or misinterpretation.\n",
            "  FutureWarning\n"
          ],
          "name": "stderr"
        },
        {
          "output_type": "execute_result",
          "data": {
            "text/plain": [
              "<matplotlib.axes._subplots.AxesSubplot at 0x7ff285043390>"
            ]
          },
          "metadata": {
            "tags": []
          },
          "execution_count": 30
        },
        {
          "output_type": "display_data",
          "data": {
            "image/png": "[encoded data removed]",
            "text/plain": [
              "<Figure size 720x432 with 1 Axes>"
            ]
          },
          "metadata": {
            "tags": [],
            "needs_background": "light"
          }
        }
      ]
    },
    {
      "cell_type": "code",
      "metadata": {
        "id": "PUgSTI8QQaF3",
        "colab": {
          "base_uri": "https://localhost:8080/",
          "height": 462
        },
        "outputId": "c391ae14-8133-4fd3-c499-506225f6bc4f"
      },
      "source": [
        "plt.figure(figsize=(20,8))\n",
        "# count plot between location and Sentiment\n",
        "sns.countplot(x ='loc', hue = \"Analysis\", data = data) "
      ],
      "execution_count": null,
      "outputs": [
        {
          "output_type": "execute_result",
          "data": {
            "text/plain": [
              "<matplotlib.axes._subplots.AxesSubplot at 0x7ff255098208>"
            ]
          },
          "metadata": {
            "tags": []
          },
          "execution_count": 31
        },
        {
          "output_type": "display_data",
          "data": {
            "image/png": "[encoded data removed]",
            "text/plain": [
              "<Figure size 1440x576 with 1 Axes>"
            ]
          },
          "metadata": {
            "tags": [],
            "needs_background": "light"
          }
        }
      ]
    },
    {
      "cell_type": "code",
      "metadata": {
        "id": "m0AZ1RtjQuz3",
        "colab": {
          "base_uri": "https://localhost:8080/",
          "height": 445
        },
        "outputId": "7f1617b4-8a09-4167-de86-27081585d8a8"
      },
      "source": [
        "# plot according to most frequent order\n",
        "plt.figure(figsize=(20,8))\n",
        "sns.set(style='darkgrid')\n",
        "sns.countplot(x = 'loc',\n",
        "              data = data,\n",
        "              order = data['loc'].value_counts().index)\n",
        "plt.show()"
      ],
      "execution_count": null,
      "outputs": [
        {
          "output_type": "display_data",
          "data": {
            "image/png": "[encoded data removed]",
            "text/plain": [
              "<Figure size 1440x576 with 1 Axes>"
            ]
          },
          "metadata": {
            "tags": [],
            "needs_background": "light"
          }
        }
      ]
    },
    {
      "cell_type": "code",
      "metadata": {
        "id": "CYKV5GxFRI0J",
        "colab": {
          "base_uri": "https://localhost:8080/",
          "height": 445
        },
        "outputId": "e6e77591-ff6c-46d6-b8eb-458fca4e039b"
      },
      "source": [
        "plt.figure(figsize=(20,8))\n",
        "sns.set(style='darkgrid')\n",
        "sns.countplot(x = 'loc',\n",
        "              hue = 'Analysis',\n",
        "              data = data,\n",
        "              order = data['loc'].value_counts().index)\n",
        "plt.show()"
      ],
      "execution_count": null,
      "outputs": [
        {
          "output_type": "display_data",
          "data": {
            "image/png": "[encoded data removed]",
            "text/plain": [
              "<Figure size 1440x576 with 1 Axes>"
            ]
          },
          "metadata": {
            "tags": []
          }
        }
      ]
    },
    {
      "cell_type": "markdown",
      "metadata": {
        "id": "Q9qgv5DMU1t4"
      },
      "source": [
        "## **Convert into numeric value using label encoder**"
      ]
    },
    {
      "cell_type": "code",
      "metadata": {
        "id": "-v52_SazRQ-g"
      },
      "source": [
        "# copy the dataset\n",
        "\n",
        "copy_data = data.copy()"
      ],
      "execution_count": null,
      "outputs": []
    },
    {
      "cell_type": "code",
      "metadata": {
        "id": "a1RhkDx-SB9P",
        "colab": {
          "base_uri": "https://localhost:8080/",
          "height": 203
        },
        "outputId": "5fb3b3b5-794c-4003-f9b6-4c9c82e9e27c"
      },
      "source": [
        "copy_data.head()"
      ],
      "execution_count": null,
      "outputs": [
        {
          "output_type": "execute_result",
          "data": {
            "text/html": [
              "<div>\n",
              "<style scoped>\n",
              "    .dataframe tbody tr th:only-of-type {\n",
              "        vertical-align: middle;\n",
              "    }\n",
              "\n",
              "    .dataframe tbody tr th {\n",
              "        vertical-align: top;\n",
              "    }\n",
              "\n",
              "    .dataframe thead th {\n",
              "        text-align: right;\n",
              "    }\n",
              "</style>\n",
              "<table border=\"1\" class=\"dataframe\">\n",
              "  <thead>\n",
              "    <tr style=\"text-align: right;\">\n",
              "      <th></th>\n",
              "      <th>loc</th>\n",
              "      <th>CleanedText</th>\n",
              "      <th>Subjectivity</th>\n",
              "      <th>Polarity</th>\n",
              "      <th>Analysis</th>\n",
              "    </tr>\n",
              "  </thead>\n",
              "  <tbody>\n",
              "    <tr>\n",
              "      <th>0</th>\n",
              "      <td>MI</td>\n",
              "      <td>stayfrea alert corona virus spread money money...</td>\n",
              "      <td>0.0</td>\n",
              "      <td>0.0</td>\n",
              "      <td>Neutral</td>\n",
              "    </tr>\n",
              "    <tr>\n",
              "      <th>1</th>\n",
              "      <td>UT</td>\n",
              "      <td>matrodamus corona virus temporari hous music f...</td>\n",
              "      <td>0.0</td>\n",
              "      <td>0.0</td>\n",
              "      <td>Neutral</td>\n",
              "    </tr>\n",
              "    <tr>\n",
              "      <th>2</th>\n",
              "      <td>TX</td>\n",
              "      <td>gainbo whole entir world corona virus danger j...</td>\n",
              "      <td>0.4</td>\n",
              "      <td>0.2</td>\n",
              "      <td>Positive</td>\n",
              "    </tr>\n",
              "    <tr>\n",
              "      <th>3</th>\n",
              "      <td>MA</td>\n",
              "      <td>ellanjeferguson krystallshere corona virus</td>\n",
              "      <td>0.0</td>\n",
              "      <td>0.0</td>\n",
              "      <td>Neutral</td>\n",
              "    </tr>\n",
              "    <tr>\n",
              "      <th>4</th>\n",
              "      <td>NJ</td>\n",
              "      <td>bradleoy corona virus said https wwfteavdch</td>\n",
              "      <td>0.0</td>\n",
              "      <td>0.0</td>\n",
              "      <td>Neutral</td>\n",
              "    </tr>\n",
              "  </tbody>\n",
              "</table>\n",
              "</div>"
            ],
            "text/plain": [
              "  loc                                        CleanedText  ...  Polarity  Analysis\n",
              "0  MI  stayfrea alert corona virus spread money money...  ...       0.0   Neutral\n",
              "1  UT  matrodamus corona virus temporari hous music f...  ...       0.0   Neutral\n",
              "2  TX  gainbo whole entir world corona virus danger j...  ...       0.2  Positive\n",
              "3  MA         ellanjeferguson krystallshere corona virus  ...       0.0   Neutral\n",
              "4  NJ        bradleoy corona virus said https wwfteavdch  ...       0.0   Neutral\n",
              "\n",
              "[5 rows x 5 columns]"
            ]
          },
          "metadata": {
            "tags": []
          },
          "execution_count": 35
        }
      ]
    },
    {
      "cell_type": "code",
      "metadata": {
        "id": "mf3EXcEISEsT",
        "colab": {
          "base_uri": "https://localhost:8080/"
        },
        "outputId": "6952e48b-bb7b-49d3-e702-88ab131d76b5"
      },
      "source": [
        "copy_data.info()"
      ],
      "execution_count": null,
      "outputs": [
        {
          "output_type": "stream",
          "text": [
            "<class 'pandas.core.frame.DataFrame'>\n",
            "RangeIndex: 20000 entries, 0 to 19999\n",
            "Data columns (total 5 columns):\n",
            " #   Column        Non-Null Count  Dtype  \n",
            "---  ------        --------------  -----  \n",
            " 0   loc           20000 non-null  object \n",
            " 1   CleanedText   20000 non-null  object \n",
            " 2   Subjectivity  20000 non-null  float64\n",
            " 3   Polarity      20000 non-null  float64\n",
            " 4   Analysis      20000 non-null  object \n",
            "dtypes: float64(2), object(3)\n",
            "memory usage: 781.4+ KB\n"
          ],
          "name": "stdout"
        }
      ]
    },
    {
      "cell_type": "code",
      "metadata": {
        "id": "JCjd0fEgSNRi"
      },
      "source": [
        "copy_data.drop(['Polarity','Subjectivity'],axis=1,inplace=True)"
      ],
      "execution_count": null,
      "outputs": []
    },
    {
      "cell_type": "code",
      "metadata": {
        "id": "pMbI_-_PS6L2",
        "colab": {
          "base_uri": "https://localhost:8080/",
          "height": 203
        },
        "outputId": "c75fb9da-6ca0-4667-812d-33ae08a2840b"
      },
      "source": [
        "copy_data.head()"
      ],
      "execution_count": null,
      "outputs": [
        {
          "output_type": "execute_result",
          "data": {
            "text/html": [
              "<div>\n",
              "<style scoped>\n",
              "    .dataframe tbody tr th:only-of-type {\n",
              "        vertical-align: middle;\n",
              "    }\n",
              "\n",
              "    .dataframe tbody tr th {\n",
              "        vertical-align: top;\n",
              "    }\n",
              "\n",
              "    .dataframe thead th {\n",
              "        text-align: right;\n",
              "    }\n",
              "</style>\n",
              "<table border=\"1\" class=\"dataframe\">\n",
              "  <thead>\n",
              "    <tr style=\"text-align: right;\">\n",
              "      <th></th>\n",
              "      <th>loc</th>\n",
              "      <th>CleanedText</th>\n",
              "      <th>Analysis</th>\n",
              "    </tr>\n",
              "  </thead>\n",
              "  <tbody>\n",
              "    <tr>\n",
              "      <th>0</th>\n",
              "      <td>MI</td>\n",
              "      <td>stayfrea alert corona virus spread money money...</td>\n",
              "      <td>Neutral</td>\n",
              "    </tr>\n",
              "    <tr>\n",
              "      <th>1</th>\n",
              "      <td>UT</td>\n",
              "      <td>matrodamus corona virus temporari hous music f...</td>\n",
              "      <td>Neutral</td>\n",
              "    </tr>\n",
              "    <tr>\n",
              "      <th>2</th>\n",
              "      <td>TX</td>\n",
              "      <td>gainbo whole entir world corona virus danger j...</td>\n",
              "      <td>Positive</td>\n",
              "    </tr>\n",
              "    <tr>\n",
              "      <th>3</th>\n",
              "      <td>MA</td>\n",
              "      <td>ellanjeferguson krystallshere corona virus</td>\n",
              "      <td>Neutral</td>\n",
              "    </tr>\n",
              "    <tr>\n",
              "      <th>4</th>\n",
              "      <td>NJ</td>\n",
              "      <td>bradleoy corona virus said https wwfteavdch</td>\n",
              "      <td>Neutral</td>\n",
              "    </tr>\n",
              "  </tbody>\n",
              "</table>\n",
              "</div>"
            ],
            "text/plain": [
              "  loc                                        CleanedText  Analysis\n",
              "0  MI  stayfrea alert corona virus spread money money...   Neutral\n",
              "1  UT  matrodamus corona virus temporari hous music f...   Neutral\n",
              "2  TX  gainbo whole entir world corona virus danger j...  Positive\n",
              "3  MA         ellanjeferguson krystallshere corona virus   Neutral\n",
              "4  NJ        bradleoy corona virus said https wwfteavdch   Neutral"
            ]
          },
          "metadata": {
            "tags": []
          },
          "execution_count": 38
        }
      ]
    },
    {
      "cell_type": "code",
      "metadata": {
        "id": "7Xi4lte1TAY0"
      },
      "source": [
        "copy_data.drop(['CleanedText'],axis=1,inplace=True)"
      ],
      "execution_count": null,
      "outputs": []
    },
    {
      "cell_type": "code",
      "metadata": {
        "id": "toCTHYG1TQJX",
        "colab": {
          "base_uri": "https://localhost:8080/",
          "height": 203
        },
        "outputId": "2eb72d6b-a11d-46c5-a99b-f39882e7ee6d"
      },
      "source": [
        "copy_data.head()"
      ],
      "execution_count": null,
      "outputs": [
        {
          "output_type": "execute_result",
          "data": {
            "text/html": [
              "<div>\n",
              "<style scoped>\n",
              "    .dataframe tbody tr th:only-of-type {\n",
              "        vertical-align: middle;\n",
              "    }\n",
              "\n",
              "    .dataframe tbody tr th {\n",
              "        vertical-align: top;\n",
              "    }\n",
              "\n",
              "    .dataframe thead th {\n",
              "        text-align: right;\n",
              "    }\n",
              "</style>\n",
              "<table border=\"1\" class=\"dataframe\">\n",
              "  <thead>\n",
              "    <tr style=\"text-align: right;\">\n",
              "      <th></th>\n",
              "      <th>loc</th>\n",
              "      <th>Analysis</th>\n",
              "    </tr>\n",
              "  </thead>\n",
              "  <tbody>\n",
              "    <tr>\n",
              "      <th>0</th>\n",
              "      <td>MI</td>\n",
              "      <td>Neutral</td>\n",
              "    </tr>\n",
              "    <tr>\n",
              "      <th>1</th>\n",
              "      <td>UT</td>\n",
              "      <td>Neutral</td>\n",
              "    </tr>\n",
              "    <tr>\n",
              "      <th>2</th>\n",
              "      <td>TX</td>\n",
              "      <td>Positive</td>\n",
              "    </tr>\n",
              "    <tr>\n",
              "      <th>3</th>\n",
              "      <td>MA</td>\n",
              "      <td>Neutral</td>\n",
              "    </tr>\n",
              "    <tr>\n",
              "      <th>4</th>\n",
              "      <td>NJ</td>\n",
              "      <td>Neutral</td>\n",
              "    </tr>\n",
              "  </tbody>\n",
              "</table>\n",
              "</div>"
            ],
            "text/plain": [
              "  loc  Analysis\n",
              "0  MI   Neutral\n",
              "1  UT   Neutral\n",
              "2  TX  Positive\n",
              "3  MA   Neutral\n",
              "4  NJ   Neutral"
            ]
          },
          "metadata": {
            "tags": []
          },
          "execution_count": 40
        }
      ]
    },
    {
      "cell_type": "code",
      "metadata": {
        "id": "PGoCpL5STTtx"
      },
      "source": [
        "from sklearn.preprocessing import LabelEncoder\n",
        "import pandas as pd"
      ],
      "execution_count": null,
      "outputs": []
    },
    {
      "cell_type": "code",
      "metadata": {
        "id": "M61Ul9FNTcZ_"
      },
      "source": [
        "le = LabelEncoder()"
      ],
      "execution_count": null,
      "outputs": []
    },
    {
      "cell_type": "code",
      "metadata": {
        "id": "_sJJbAlzTjXa",
        "colab": {
          "base_uri": "https://localhost:8080/"
        },
        "outputId": "bbf7ddcb-e69f-41cf-ac78-25b4ac9c0222"
      },
      "source": [
        "le.fit_transform(copy_data['loc'])"
      ],
      "execution_count": null,
      "outputs": [
        {
          "output_type": "execute_result",
          "data": {
            "text/plain": [
              "array([21, 43, 42, ...,  5,  4, 32])"
            ]
          },
          "metadata": {
            "tags": []
          },
          "execution_count": 44
        }
      ]
    },
    {
      "cell_type": "code",
      "metadata": {
        "id": "URPs5vOmTmaM"
      },
      "source": [
        "copy_data['loc_encoder']=le.fit_transform(copy_data['loc'])"
      ],
      "execution_count": null,
      "outputs": []
    },
    {
      "cell_type": "code",
      "metadata": {
        "id": "7lfmGOfjTrfm",
        "colab": {
          "base_uri": "https://localhost:8080/"
        },
        "outputId": "df1706f3-781e-4e89-9865-caab00fbb244"
      },
      "source": [
        "copy_data['loc_encoder'].value_counts()"
      ],
      "execution_count": null,
      "outputs": [
        {
          "output_type": "execute_result",
          "data": {
            "text/plain": [
              "4     3399\n",
              "42    2379\n",
              "8     1200\n",
              "33    1151\n",
              "46     974\n",
              "13     774\n",
              "30     578\n",
              "9      566\n",
              "32     554\n",
              "3      515\n",
              "19     494\n",
              "37     484\n",
              "5      474\n",
              "34     417\n",
              "36     397\n",
              "26     376\n",
              "18     370\n",
              "41     365\n",
              "44     350\n",
              "39     316\n",
              "17     314\n",
              "21     298\n",
              "29     278\n",
              "1      262\n",
              "14     220\n",
              "22     204\n",
              "23     166\n",
              "16     161\n",
              "47     157\n",
              "10     146\n",
              "35     142\n",
              "31     136\n",
              "43     131\n",
              "6      127\n",
              "45     119\n",
              "28     104\n",
              "15     101\n",
              "0       93\n",
              "11      87\n",
              "2       85\n",
              "12      83\n",
              "24      82\n",
              "7       79\n",
              "48      64\n",
              "25      50\n",
              "38      50\n",
              "20      50\n",
              "40      37\n",
              "27      24\n",
              "49      17\n",
              "Name: loc_encoder, dtype: int64"
            ]
          },
          "metadata": {
            "tags": []
          },
          "execution_count": 46
        }
      ]
    },
    {
      "cell_type": "code",
      "metadata": {
        "id": "Z4ZJqB0kTuTf"
      },
      "source": [
        "copy_data['analysis_encoder']=le.fit_transform(copy_data['Analysis'])"
      ],
      "execution_count": null,
      "outputs": []
    },
    {
      "cell_type": "code",
      "metadata": {
        "id": "jbUNVAoGTxxD",
        "colab": {
          "base_uri": "https://localhost:8080/",
          "height": 203
        },
        "outputId": "4e5196f0-4543-49a4-e99a-f87ca1949d08"
      },
      "source": [
        "copy_data.head()"
      ],
      "execution_count": null,
      "outputs": [
        {
          "output_type": "execute_result",
          "data": {
            "text/html": [
              "<div>\n",
              "<style scoped>\n",
              "    .dataframe tbody tr th:only-of-type {\n",
              "        vertical-align: middle;\n",
              "    }\n",
              "\n",
              "    .dataframe tbody tr th {\n",
              "        vertical-align: top;\n",
              "    }\n",
              "\n",
              "    .dataframe thead th {\n",
              "        text-align: right;\n",
              "    }\n",
              "</style>\n",
              "<table border=\"1\" class=\"dataframe\">\n",
              "  <thead>\n",
              "    <tr style=\"text-align: right;\">\n",
              "      <th></th>\n",
              "      <th>loc</th>\n",
              "      <th>Analysis</th>\n",
              "      <th>loc_encoder</th>\n",
              "      <th>analysis_encoder</th>\n",
              "    </tr>\n",
              "  </thead>\n",
              "  <tbody>\n",
              "    <tr>\n",
              "      <th>0</th>\n",
              "      <td>MI</td>\n",
              "      <td>Neutral</td>\n",
              "      <td>21</td>\n",
              "      <td>1</td>\n",
              "    </tr>\n",
              "    <tr>\n",
              "      <th>1</th>\n",
              "      <td>UT</td>\n",
              "      <td>Neutral</td>\n",
              "      <td>43</td>\n",
              "      <td>1</td>\n",
              "    </tr>\n",
              "    <tr>\n",
              "      <th>2</th>\n",
              "      <td>TX</td>\n",
              "      <td>Positive</td>\n",
              "      <td>42</td>\n",
              "      <td>2</td>\n",
              "    </tr>\n",
              "    <tr>\n",
              "      <th>3</th>\n",
              "      <td>MA</td>\n",
              "      <td>Neutral</td>\n",
              "      <td>18</td>\n",
              "      <td>1</td>\n",
              "    </tr>\n",
              "    <tr>\n",
              "      <th>4</th>\n",
              "      <td>NJ</td>\n",
              "      <td>Neutral</td>\n",
              "      <td>30</td>\n",
              "      <td>1</td>\n",
              "    </tr>\n",
              "  </tbody>\n",
              "</table>\n",
              "</div>"
            ],
            "text/plain": [
              "  loc  Analysis  loc_encoder  analysis_encoder\n",
              "0  MI   Neutral           21                 1\n",
              "1  UT   Neutral           43                 1\n",
              "2  TX  Positive           42                 2\n",
              "3  MA   Neutral           18                 1\n",
              "4  NJ   Neutral           30                 1"
            ]
          },
          "metadata": {
            "tags": []
          },
          "execution_count": 48
        }
      ]
    },
    {
      "cell_type": "code",
      "metadata": {
        "id": "ff_7RGgpT05a",
        "colab": {
          "base_uri": "https://localhost:8080/",
          "height": 340
        },
        "outputId": "6a177fb2-3f7f-4860-9de0-d56822e9bd40"
      },
      "source": [
        "import seaborn as sns, numpy as np\n",
        "sns.set_theme(); np.random.seed(0)\n",
        "x = copy_data['loc_encoder']\n",
        "ax = sns.distplot(x)"
      ],
      "execution_count": null,
      "outputs": [
        {
          "output_type": "stream",
          "text": [
            "/usr/local/lib/python3.6/dist-packages/seaborn/distributions.py:2551: FutureWarning: `distplot` is a deprecated function and will be removed in a future version. Please adapt your code to use either `displot` (a figure-level function with similar flexibility) or `histplot` (an axes-level function for histograms).\n",
            "  warnings.warn(msg, FutureWarning)\n"
          ],
          "name": "stderr"
        },
        {
          "output_type": "display_data",
          "data": {
            "image/png": "[encoded data removed]",
            "text/plain": [
              "<Figure size 432x288 with 1 Axes>"
            ]
          },
          "metadata": {
            "tags": []
          }
        }
      ]
    },
    {
      "cell_type": "code",
      "metadata": {
        "id": "HM6F8av-T40d",
        "colab": {
          "base_uri": "https://localhost:8080/",
          "height": 340
        },
        "outputId": "59d79be1-d952-44bd-e164-0fe8a1ab597a"
      },
      "source": [
        "sns.set_theme(); np.random.seed(0)\n",
        "y = copy_data['analysis_encoder']\n",
        "ax = sns.distplot(y)"
      ],
      "execution_count": null,
      "outputs": [
        {
          "output_type": "stream",
          "text": [
            "/usr/local/lib/python3.6/dist-packages/seaborn/distributions.py:2551: FutureWarning: `distplot` is a deprecated function and will be removed in a future version. Please adapt your code to use either `displot` (a figure-level function with similar flexibility) or `histplot` (an axes-level function for histograms).\n",
            "  warnings.warn(msg, FutureWarning)\n"
          ],
          "name": "stderr"
        },
        {
          "output_type": "display_data",
          "data": {
            "image/png": "[encoded data removed]",
            "text/plain": [
              "<Figure size 432x288 with 1 Axes>"
            ]
          },
          "metadata": {
            "tags": []
          }
        }
      ]
    },
    {
      "cell_type": "code",
      "metadata": {
        "id": "xjdk6YuZT9Y9",
        "colab": {
          "base_uri": "https://localhost:8080/",
          "height": 303
        },
        "outputId": "5269506e-faca-4fa1-80de-17ee3d12b289"
      },
      "source": [
        "sns.kdeplot(data=copy_data, x=\"loc_encoder\", hue=\"Analysis\")"
      ],
      "execution_count": null,
      "outputs": [
        {
          "output_type": "execute_result",
          "data": {
            "text/plain": [
              "<matplotlib.axes._subplots.AxesSubplot at 0x7ff254ad7978>"
            ]
          },
          "metadata": {
            "tags": []
          },
          "execution_count": 51
        },
        {
          "output_type": "display_data",
          "data": {
            "image/png": "[encoded data removed]",
            "text/plain": [
              "<Figure size 432x288 with 1 Axes>"
            ]
          },
          "metadata": {
            "tags": []
          }
        }
      ]
    },
    {
      "cell_type": "code",
      "metadata": {
        "id": "rXE7p8JFUI-9",
        "colab": {
          "base_uri": "https://localhost:8080/",
          "height": 401
        },
        "outputId": "5f432f79-aed6-4e18-c11d-0bd890b5cefd"
      },
      "source": [
        "plt.figure(figsize=(20,8))\n",
        "sns.displot(copy_data, x=\"loc_encoder\", hue=\"Analysis\", multiple=\"stack\")"
      ],
      "execution_count": null,
      "outputs": [
        {
          "output_type": "execute_result",
          "data": {
            "text/plain": [
              "<seaborn.axisgrid.FacetGrid at 0x7ff25579dd68>"
            ]
          },
          "metadata": {
            "tags": []
          },
          "execution_count": 52
        },
        {
          "output_type": "display_data",
          "data": {
            "text/plain": [
              "<Figure size 1440x576 with 0 Axes>"
            ]
          },
          "metadata": {
            "tags": []
          }
        },
        {
          "output_type": "display_data",
          "data": {
            "image/png": "[encoded data removed]",
            "text/plain": [
              "<Figure size 449.35x360 with 1 Axes>"
            ]
          },
          "metadata": {
            "tags": []
          }
        }
      ]
    },
    {
      "cell_type": "markdown",
      "metadata": {
        "id": "iCGUHegnUp_m"
      },
      "source": [
        "## **Finding correlation**"
      ]
    },
    {
      "cell_type": "code",
      "metadata": {
        "id": "UIDXrfn4UvOB",
        "colab": {
          "base_uri": "https://localhost:8080/",
          "height": 110
        },
        "outputId": "86af360a-bd3a-4c4b-a82f-c3275c1ee127"
      },
      "source": [
        "copy_data.corr()"
      ],
      "execution_count": null,
      "outputs": [
        {
          "output_type": "execute_result",
          "data": {
            "text/html": [
              "<div>\n",
              "<style scoped>\n",
              "    .dataframe tbody tr th:only-of-type {\n",
              "        vertical-align: middle;\n",
              "    }\n",
              "\n",
              "    .dataframe tbody tr th {\n",
              "        vertical-align: top;\n",
              "    }\n",
              "\n",
              "    .dataframe thead th {\n",
              "        text-align: right;\n",
              "    }\n",
              "</style>\n",
              "<table border=\"1\" class=\"dataframe\">\n",
              "  <thead>\n",
              "    <tr style=\"text-align: right;\">\n",
              "      <th></th>\n",
              "      <th>loc_encoder</th>\n",
              "      <th>analysis_encoder</th>\n",
              "    </tr>\n",
              "  </thead>\n",
              "  <tbody>\n",
              "    <tr>\n",
              "      <th>loc_encoder</th>\n",
              "      <td>1.000000</td>\n",
              "      <td>-0.003111</td>\n",
              "    </tr>\n",
              "    <tr>\n",
              "      <th>analysis_encoder</th>\n",
              "      <td>-0.003111</td>\n",
              "      <td>1.000000</td>\n",
              "    </tr>\n",
              "  </tbody>\n",
              "</table>\n",
              "</div>"
            ],
            "text/plain": [
              "                  loc_encoder  analysis_encoder\n",
              "loc_encoder          1.000000         -0.003111\n",
              "analysis_encoder    -0.003111          1.000000"
            ]
          },
          "metadata": {
            "tags": []
          },
          "execution_count": 53
        }
      ]
    },
    {
      "cell_type": "code",
      "metadata": {
        "id": "x-Dm2G7CVbEF",
        "colab": {
          "base_uri": "https://localhost:8080/",
          "height": 307
        },
        "outputId": "c459e79f-5b30-40b0-8d34-29eaf2c9b2e5"
      },
      "source": [
        "sns.heatmap(copy_data.corr())"
      ],
      "execution_count": null,
      "outputs": [
        {
          "output_type": "execute_result",
          "data": {
            "text/plain": [
              "<matplotlib.axes._subplots.AxesSubplot at 0x7ff254d3b160>"
            ]
          },
          "metadata": {
            "tags": []
          },
          "execution_count": 54
        },
        {
          "output_type": "display_data",
          "data": {
            "image/png": "[encoded data removed]",
            "text/plain": [
              "<Figure size 432x288 with 2 Axes>"
            ]
          },
          "metadata": {
            "tags": []
          }
        }
      ]
    },
    {
      "cell_type": "markdown",
      "metadata": {
        "id": "xGNDiiG0VlbW"
      },
      "source": [
        "## Again copy the data"
      ]
    },
    {
      "cell_type": "code",
      "metadata": {
        "id": "VbmS8GwTVee-"
      },
      "source": [
        "df2 = data.copy()"
      ],
      "execution_count": null,
      "outputs": []
    },
    {
      "cell_type": "code",
      "metadata": {
        "id": "An1jZibIVt6F",
        "colab": {
          "base_uri": "https://localhost:8080/",
          "height": 203
        },
        "outputId": "87522b80-8c25-4452-c535-0c2a5f512208"
      },
      "source": [
        "df2.head()"
      ],
      "execution_count": null,
      "outputs": [
        {
          "output_type": "execute_result",
          "data": {
            "text/html": [
              "<div>\n",
              "<style scoped>\n",
              "    .dataframe tbody tr th:only-of-type {\n",
              "        vertical-align: middle;\n",
              "    }\n",
              "\n",
              "    .dataframe tbody tr th {\n",
              "        vertical-align: top;\n",
              "    }\n",
              "\n",
              "    .dataframe thead th {\n",
              "        text-align: right;\n",
              "    }\n",
              "</style>\n",
              "<table border=\"1\" class=\"dataframe\">\n",
              "  <thead>\n",
              "    <tr style=\"text-align: right;\">\n",
              "      <th></th>\n",
              "      <th>loc</th>\n",
              "      <th>CleanedText</th>\n",
              "      <th>Subjectivity</th>\n",
              "      <th>Polarity</th>\n",
              "      <th>Analysis</th>\n",
              "    </tr>\n",
              "  </thead>\n",
              "  <tbody>\n",
              "    <tr>\n",
              "      <th>0</th>\n",
              "      <td>MI</td>\n",
              "      <td>stayfrea alert corona virus spread money money...</td>\n",
              "      <td>0.0</td>\n",
              "      <td>0.0</td>\n",
              "      <td>Neutral</td>\n",
              "    </tr>\n",
              "    <tr>\n",
              "      <th>1</th>\n",
              "      <td>UT</td>\n",
              "      <td>matrodamus corona virus temporari hous music f...</td>\n",
              "      <td>0.0</td>\n",
              "      <td>0.0</td>\n",
              "      <td>Neutral</td>\n",
              "    </tr>\n",
              "    <tr>\n",
              "      <th>2</th>\n",
              "      <td>TX</td>\n",
              "      <td>gainbo whole entir world corona virus danger j...</td>\n",
              "      <td>0.4</td>\n",
              "      <td>0.2</td>\n",
              "      <td>Positive</td>\n",
              "    </tr>\n",
              "    <tr>\n",
              "      <th>3</th>\n",
              "      <td>MA</td>\n",
              "      <td>ellanjeferguson krystallshere corona virus</td>\n",
              "      <td>0.0</td>\n",
              "      <td>0.0</td>\n",
              "      <td>Neutral</td>\n",
              "    </tr>\n",
              "    <tr>\n",
              "      <th>4</th>\n",
              "      <td>NJ</td>\n",
              "      <td>bradleoy corona virus said https wwfteavdch</td>\n",
              "      <td>0.0</td>\n",
              "      <td>0.0</td>\n",
              "      <td>Neutral</td>\n",
              "    </tr>\n",
              "  </tbody>\n",
              "</table>\n",
              "</div>"
            ],
            "text/plain": [
              "  loc                                        CleanedText  ...  Polarity  Analysis\n",
              "0  MI  stayfrea alert corona virus spread money money...  ...       0.0   Neutral\n",
              "1  UT  matrodamus corona virus temporari hous music f...  ...       0.0   Neutral\n",
              "2  TX  gainbo whole entir world corona virus danger j...  ...       0.2  Positive\n",
              "3  MA         ellanjeferguson krystallshere corona virus  ...       0.0   Neutral\n",
              "4  NJ        bradleoy corona virus said https wwfteavdch  ...       0.0   Neutral\n",
              "\n",
              "[5 rows x 5 columns]"
            ]
          },
          "metadata": {
            "tags": []
          },
          "execution_count": 56
        }
      ]
    },
    {
      "cell_type": "code",
      "metadata": {
        "id": "PCOb_0w2Vw9J"
      },
      "source": [
        "df2.drop(['CleanedText'],axis=1,inplace=True)"
      ],
      "execution_count": null,
      "outputs": []
    },
    {
      "cell_type": "code",
      "metadata": {
        "id": "SEPfJ1RhWAOK",
        "colab": {
          "base_uri": "https://localhost:8080/",
          "height": 203
        },
        "outputId": "2e47454e-fcb5-4903-da53-805f20359259"
      },
      "source": [
        "df2.head()"
      ],
      "execution_count": null,
      "outputs": [
        {
          "output_type": "execute_result",
          "data": {
            "text/html": [
              "<div>\n",
              "<style scoped>\n",
              "    .dataframe tbody tr th:only-of-type {\n",
              "        vertical-align: middle;\n",
              "    }\n",
              "\n",
              "    .dataframe tbody tr th {\n",
              "        vertical-align: top;\n",
              "    }\n",
              "\n",
              "    .dataframe thead th {\n",
              "        text-align: right;\n",
              "    }\n",
              "</style>\n",
              "<table border=\"1\" class=\"dataframe\">\n",
              "  <thead>\n",
              "    <tr style=\"text-align: right;\">\n",
              "      <th></th>\n",
              "      <th>loc</th>\n",
              "      <th>Subjectivity</th>\n",
              "      <th>Polarity</th>\n",
              "      <th>Analysis</th>\n",
              "    </tr>\n",
              "  </thead>\n",
              "  <tbody>\n",
              "    <tr>\n",
              "      <th>0</th>\n",
              "      <td>MI</td>\n",
              "      <td>0.0</td>\n",
              "      <td>0.0</td>\n",
              "      <td>Neutral</td>\n",
              "    </tr>\n",
              "    <tr>\n",
              "      <th>1</th>\n",
              "      <td>UT</td>\n",
              "      <td>0.0</td>\n",
              "      <td>0.0</td>\n",
              "      <td>Neutral</td>\n",
              "    </tr>\n",
              "    <tr>\n",
              "      <th>2</th>\n",
              "      <td>TX</td>\n",
              "      <td>0.4</td>\n",
              "      <td>0.2</td>\n",
              "      <td>Positive</td>\n",
              "    </tr>\n",
              "    <tr>\n",
              "      <th>3</th>\n",
              "      <td>MA</td>\n",
              "      <td>0.0</td>\n",
              "      <td>0.0</td>\n",
              "      <td>Neutral</td>\n",
              "    </tr>\n",
              "    <tr>\n",
              "      <th>4</th>\n",
              "      <td>NJ</td>\n",
              "      <td>0.0</td>\n",
              "      <td>0.0</td>\n",
              "      <td>Neutral</td>\n",
              "    </tr>\n",
              "  </tbody>\n",
              "</table>\n",
              "</div>"
            ],
            "text/plain": [
              "  loc  Subjectivity  Polarity  Analysis\n",
              "0  MI           0.0       0.0   Neutral\n",
              "1  UT           0.0       0.0   Neutral\n",
              "2  TX           0.4       0.2  Positive\n",
              "3  MA           0.0       0.0   Neutral\n",
              "4  NJ           0.0       0.0   Neutral"
            ]
          },
          "metadata": {
            "tags": []
          },
          "execution_count": 58
        }
      ]
    },
    {
      "cell_type": "code",
      "metadata": {
        "id": "-NAwPOfNWCwd"
      },
      "source": [
        "from sklearn.preprocessing import LabelEncoder\n",
        "import pandas as pd"
      ],
      "execution_count": null,
      "outputs": []
    },
    {
      "cell_type": "code",
      "metadata": {
        "id": "TR79UMW0WGSV"
      },
      "source": [
        "lel = LabelEncoder()"
      ],
      "execution_count": null,
      "outputs": []
    },
    {
      "cell_type": "code",
      "metadata": {
        "id": "oJotEYSwWJps"
      },
      "source": [
        "df2['loc_encoder']=le.fit_transform(df2['loc'])"
      ],
      "execution_count": null,
      "outputs": []
    },
    {
      "cell_type": "code",
      "metadata": {
        "id": "dgPptXzXWMhD"
      },
      "source": [
        "df2['analysis_encoder']=le.fit_transform(df2['Analysis'])"
      ],
      "execution_count": null,
      "outputs": []
    },
    {
      "cell_type": "code",
      "metadata": {
        "id": "kn_hSEciWRwy",
        "colab": {
          "base_uri": "https://localhost:8080/",
          "height": 203
        },
        "outputId": "d8075a86-0c7b-4a76-e177-977a77fbbc36"
      },
      "source": [
        "df2.head()"
      ],
      "execution_count": null,
      "outputs": [
        {
          "output_type": "execute_result",
          "data": {
            "text/html": [
              "<div>\n",
              "<style scoped>\n",
              "    .dataframe tbody tr th:only-of-type {\n",
              "        vertical-align: middle;\n",
              "    }\n",
              "\n",
              "    .dataframe tbody tr th {\n",
              "        vertical-align: top;\n",
              "    }\n",
              "\n",
              "    .dataframe thead th {\n",
              "        text-align: right;\n",
              "    }\n",
              "</style>\n",
              "<table border=\"1\" class=\"dataframe\">\n",
              "  <thead>\n",
              "    <tr style=\"text-align: right;\">\n",
              "      <th></th>\n",
              "      <th>loc</th>\n",
              "      <th>Subjectivity</th>\n",
              "      <th>Polarity</th>\n",
              "      <th>Analysis</th>\n",
              "      <th>loc_encoder</th>\n",
              "      <th>analysis_encoder</th>\n",
              "    </tr>\n",
              "  </thead>\n",
              "  <tbody>\n",
              "    <tr>\n",
              "      <th>0</th>\n",
              "      <td>MI</td>\n",
              "      <td>0.0</td>\n",
              "      <td>0.0</td>\n",
              "      <td>Neutral</td>\n",
              "      <td>21</td>\n",
              "      <td>1</td>\n",
              "    </tr>\n",
              "    <tr>\n",
              "      <th>1</th>\n",
              "      <td>UT</td>\n",
              "      <td>0.0</td>\n",
              "      <td>0.0</td>\n",
              "      <td>Neutral</td>\n",
              "      <td>43</td>\n",
              "      <td>1</td>\n",
              "    </tr>\n",
              "    <tr>\n",
              "      <th>2</th>\n",
              "      <td>TX</td>\n",
              "      <td>0.4</td>\n",
              "      <td>0.2</td>\n",
              "      <td>Positive</td>\n",
              "      <td>42</td>\n",
              "      <td>2</td>\n",
              "    </tr>\n",
              "    <tr>\n",
              "      <th>3</th>\n",
              "      <td>MA</td>\n",
              "      <td>0.0</td>\n",
              "      <td>0.0</td>\n",
              "      <td>Neutral</td>\n",
              "      <td>18</td>\n",
              "      <td>1</td>\n",
              "    </tr>\n",
              "    <tr>\n",
              "      <th>4</th>\n",
              "      <td>NJ</td>\n",
              "      <td>0.0</td>\n",
              "      <td>0.0</td>\n",
              "      <td>Neutral</td>\n",
              "      <td>30</td>\n",
              "      <td>1</td>\n",
              "    </tr>\n",
              "  </tbody>\n",
              "</table>\n",
              "</div>"
            ],
            "text/plain": [
              "  loc  Subjectivity  Polarity  Analysis  loc_encoder  analysis_encoder\n",
              "0  MI           0.0       0.0   Neutral           21                 1\n",
              "1  UT           0.0       0.0   Neutral           43                 1\n",
              "2  TX           0.4       0.2  Positive           42                 2\n",
              "3  MA           0.0       0.0   Neutral           18                 1\n",
              "4  NJ           0.0       0.0   Neutral           30                 1"
            ]
          },
          "metadata": {
            "tags": []
          },
          "execution_count": 63
        }
      ]
    },
    {
      "cell_type": "code",
      "metadata": {
        "id": "yAJa-Qx9WU_7",
        "colab": {
          "base_uri": "https://localhost:8080/",
          "height": 172
        },
        "outputId": "79f5cfb0-43fc-4b89-9dad-aef187ebff74"
      },
      "source": [
        "df2.corr()"
      ],
      "execution_count": null,
      "outputs": [
        {
          "output_type": "execute_result",
          "data": {
            "text/html": [
              "<div>\n",
              "<style scoped>\n",
              "    .dataframe tbody tr th:only-of-type {\n",
              "        vertical-align: middle;\n",
              "    }\n",
              "\n",
              "    .dataframe tbody tr th {\n",
              "        vertical-align: top;\n",
              "    }\n",
              "\n",
              "    .dataframe thead th {\n",
              "        text-align: right;\n",
              "    }\n",
              "</style>\n",
              "<table border=\"1\" class=\"dataframe\">\n",
              "  <thead>\n",
              "    <tr style=\"text-align: right;\">\n",
              "      <th></th>\n",
              "      <th>Subjectivity</th>\n",
              "      <th>Polarity</th>\n",
              "      <th>loc_encoder</th>\n",
              "      <th>analysis_encoder</th>\n",
              "    </tr>\n",
              "  </thead>\n",
              "  <tbody>\n",
              "    <tr>\n",
              "      <th>Subjectivity</th>\n",
              "      <td>1.000000</td>\n",
              "      <td>-0.161923</td>\n",
              "      <td>-0.006645</td>\n",
              "      <td>-0.091737</td>\n",
              "    </tr>\n",
              "    <tr>\n",
              "      <th>Polarity</th>\n",
              "      <td>-0.161923</td>\n",
              "      <td>1.000000</td>\n",
              "      <td>-0.003954</td>\n",
              "      <td>0.826641</td>\n",
              "    </tr>\n",
              "    <tr>\n",
              "      <th>loc_encoder</th>\n",
              "      <td>-0.006645</td>\n",
              "      <td>-0.003954</td>\n",
              "      <td>1.000000</td>\n",
              "      <td>-0.003111</td>\n",
              "    </tr>\n",
              "    <tr>\n",
              "      <th>analysis_encoder</th>\n",
              "      <td>-0.091737</td>\n",
              "      <td>0.826641</td>\n",
              "      <td>-0.003111</td>\n",
              "      <td>1.000000</td>\n",
              "    </tr>\n",
              "  </tbody>\n",
              "</table>\n",
              "</div>"
            ],
            "text/plain": [
              "                  Subjectivity  Polarity  loc_encoder  analysis_encoder\n",
              "Subjectivity          1.000000 -0.161923    -0.006645         -0.091737\n",
              "Polarity             -0.161923  1.000000    -0.003954          0.826641\n",
              "loc_encoder          -0.006645 -0.003954     1.000000         -0.003111\n",
              "analysis_encoder     -0.091737  0.826641    -0.003111          1.000000"
            ]
          },
          "metadata": {
            "tags": []
          },
          "execution_count": 64
        }
      ]
    },
    {
      "cell_type": "code",
      "metadata": {
        "id": "pjsnlftaWZr8",
        "colab": {
          "base_uri": "https://localhost:8080/",
          "height": 375
        },
        "outputId": "6ebe62ac-e32b-4e66-b2f3-2674ce408977"
      },
      "source": [
        "sns.heatmap(df2.corr())"
      ],
      "execution_count": null,
      "outputs": [
        {
          "output_type": "execute_result",
          "data": {
            "text/plain": [
              "<matplotlib.axes._subplots.AxesSubplot at 0x7ff254c38198>"
            ]
          },
          "metadata": {
            "tags": []
          },
          "execution_count": 65
        },
        {
          "output_type": "display_data",
          "data": {
            "image/png": "[encoded data removed]",
            "text/plain": [
              "<Figure size 432x288 with 2 Axes>"
            ]
          },
          "metadata": {
            "tags": []
          }
        }
      ]
    },
    {
      "cell_type": "code",
      "metadata": {
        "id": "sjAtzbzqWeEr"
      },
      "source": [
        ""
      ],
      "execution_count": null,
      "outputs": []
    }
  ]
}